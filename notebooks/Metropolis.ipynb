{
 "cells": [
  {
   "cell_type": "markdown",
   "metadata": {},
   "source": [
    "# Metropolis Sampling\n",
    "\n",
    "#### Marcel Lüthi, Departement of Mathematics and Computer Science, University of Basel"
   ]
  },
  {
   "cell_type": "markdown",
   "metadata": {},
   "source": [
    "In this notebook we will present an implementation of the Metropolis algorithm and experiment with it. As a target distribution we will use a bivariate normal distribution. This simple setup is ideally suited for exploring the properties of the algorithm: We know how the true target distribution looks like, can change its shape, and we can visualize the samples. \n",
    "\n",
    "The intuition that we develop while experimenting with this simple examples, will help us to understand the more complicated cases that we will explore later in this course. "
   ]
  },
  {
   "cell_type": "markdown",
   "metadata": {},
   "source": [
    "### Preparation"
   ]
  },
  {
   "cell_type": "markdown",
   "metadata": {},
   "source": [
    "Before we start, we need to import the plotting library [Smile-plot](https://haifengl.github.io/visualization.html) as well as the linear algebra library [breeze](https://github.com/scalanlp/breeze). It may take some time when you execute the following cells for the first time. "
   ]
  },
  {
   "cell_type": "code",
   "execution_count": 95,
   "metadata": {},
   "outputs": [
    {
     "data": {
      "text/plain": [
       "\u001b[32mimport \u001b[39m\u001b[36m$ivy.$                                       \n",
       "\u001b[39m\r\n",
       "\u001b[32mimport \u001b[39m\u001b[36m$ivy.$                                     \n",
       "\u001b[39m\r\n",
       "\u001b[32mimport \u001b[39m\u001b[36m$ivy.$                         \n",
       "\u001b[39m\r\n",
       "\u001b[32mimport \u001b[39m\u001b[36m$ivy.$                                 \n",
       "\n",
       "\u001b[39m\r\n",
       "\u001b[32mimport \u001b[39m\u001b[36msmile.plot.swing._\n",
       "\u001b[39m\r\n",
       "\u001b[32mimport \u001b[39m\u001b[36mbreeze.linalg._\n",
       "\u001b[39m\r\n",
       "\u001b[32mimport \u001b[39m\u001b[36mbreeze.stats.distributions._\u001b[39m"
      ]
     },
     "execution_count": 95,
     "metadata": {},
     "output_type": "execute_result"
    }
   ],
   "source": [
    "import $ivy.`com.github.haifengl::smile-scala:2.6.0`\n",
    "import $ivy.`com.github.haifengl:smile-plot:2.6.0`\n",
    "import $ivy.`org.scalanlp::breeze:1.1`\n",
    "import $ivy.`org.scalanlp::breeze-natives:1.1`\n",
    "\n",
    "import smile.plot.swing._\n",
    "import breeze.linalg._\n",
    "import breeze.stats.distributions._"
   ]
  },
  {
   "cell_type": "code",
   "execution_count": 96,
   "metadata": {},
   "outputs": [
    {
     "data": {
      "text/plain": [
       "defined \u001b[32mfunction\u001b[39m \u001b[36mshowPlot\u001b[39m"
      ]
     },
     "execution_count": 96,
     "metadata": {},
     "output_type": "execute_result"
    }
   ],
   "source": [
    "def showPlot(canvas : smile.plot.swing.Canvas) =\n",
    "  Image.fromRenderedImage(canvas.toBufferedImage(600, 600), Image.PNG)\n"
   ]
  },
  {
   "cell_type": "markdown",
   "metadata": {},
   "source": [
    "We also initialize a global random number generator, which we use whenever we need a new random number in our algorithm."
   ]
  },
  {
   "cell_type": "code",
   "execution_count": 97,
   "metadata": {},
   "outputs": [
    {
     "data": {
      "text/plain": [
       "\u001b[36mrng\u001b[39m: \u001b[32mscala\u001b[39m.\u001b[32mutil\u001b[39m.\u001b[32mRandom\u001b[39m = scala.util.Random@69434dab"
      ]
     },
     "execution_count": 97,
     "metadata": {},
     "output_type": "execute_result"
    }
   ],
   "source": [
    "// We keep random number generator around as global state\n",
    "val rng = new scala.util.Random()"
   ]
  },
  {
   "cell_type": "markdown",
   "metadata": {},
   "source": [
    "### The Metropolis algorithm"
   ]
  },
  {
   "cell_type": "markdown",
   "metadata": {},
   "source": [
    "The Metropolis algorithm works by simulating a random path through the states on which the target distribution is defined. Starting from a given state, a possible new state is proposed using a proposal function. The new state is then evaluated given the target distribution and rejected or accepted depending on the likelihood ratio between the old and new state.\n",
    "\n",
    "This motivates the following definitions:"
   ]
  },
  {
   "cell_type": "code",
   "execution_count": 98,
   "metadata": {},
   "outputs": [
    {
     "data": {
      "text/plain": [
       "defined \u001b[32mtype\u001b[39m \u001b[36mState\u001b[39m"
      ]
     },
     "execution_count": 98,
     "metadata": {},
     "output_type": "execute_result"
    }
   ],
   "source": [
    "type State = DenseVector[Double]  // The state is represented as a vector"
   ]
  },
  {
   "cell_type": "code",
   "execution_count": 99,
   "metadata": {},
   "outputs": [
    {
     "data": {
      "text/plain": [
       "defined \u001b[32mtype\u001b[39m \u001b[36mProposal\u001b[39m"
      ]
     },
     "execution_count": 99,
     "metadata": {},
     "output_type": "execute_result"
    }
   ],
   "source": [
    "type Proposal = State => State    // The proposal function produces a new state from a given state"
   ]
  },
  {
   "cell_type": "code",
   "execution_count": 100,
   "metadata": {},
   "outputs": [
    {
     "data": {
      "text/plain": [
       "defined \u001b[32mtype\u001b[39m \u001b[36mDistributionEvaluator\u001b[39m"
      ]
     },
     "execution_count": 100,
     "metadata": {},
     "output_type": "execute_result"
    }
   ],
   "source": [
    "type DistributionEvaluator = State => Double // The distribution evaluator evaluates a probability of each state"
   ]
  },
  {
   "cell_type": "markdown",
   "metadata": {},
   "source": [
    "In order to understand and be able to visualize how the Metropolis algorithm walks through the state-space, we introduce a logger. The logger keeps track of the sequence of states, together with the information, which new state was proposed in each step:"
   ]
  },
  {
   "cell_type": "code",
   "execution_count": 101,
   "metadata": {},
   "outputs": [
    {
     "data": {
      "text/plain": [
       "defined \u001b[32mclass\u001b[39m \u001b[36mLogger\u001b[39m"
      ]
     },
     "execution_count": 101,
     "metadata": {},
     "output_type": "execute_result"
    }
   ],
   "source": [
    "\n",
    "class Logger {\n",
    "    case class StepInfo(state : State, proposedState : State) {\n",
    "        def accepted : Boolean = state == proposedState\n",
    "    }\n",
    "\n",
    "    private val stepSeq = collection.mutable.Buffer[StepInfo]()\n",
    "    \n",
    "    def steps : Seq[StepInfo] = stepSeq.toSeq\n",
    "    \n",
    "    def logStep(state : State, proposedState : State) : Unit = stepSeq.append(StepInfo(state, proposedState))\n",
    "}"
   ]
  },
  {
   "cell_type": "markdown",
   "metadata": {},
   "source": [
    "With these definitions, we are ready to implement the Metropolis sampler. "
   ]
  },
  {
   "cell_type": "code",
   "execution_count": 102,
   "metadata": {},
   "outputs": [
    {
     "data": {
      "text/plain": [
       "defined \u001b[32mfunction\u001b[39m \u001b[36mmetropolisSampler\u001b[39m"
      ]
     },
     "execution_count": 102,
     "metadata": {},
     "output_type": "execute_result"
    }
   ],
   "source": [
    "\n",
    "\n",
    "def metropolisSampler(p : DistributionEvaluator, q : Proposal, initialState : State, logger : Logger) : Iterator[State] = {\n",
    "\n",
    "    // Simulates one step\n",
    "    def nextStep(currentState : State) : State = {\n",
    "        \n",
    "        // propose a new state from the given state\n",
    "        val proposedState = q(currentState) \n",
    "        \n",
    "        // accept based on the ratio of probabilities between \n",
    "        // the new and the old state\n",
    "        val r = rng.nextDouble()\n",
    "        val alpha  = scala.math.min(1.0, p(proposedState) / p(currentState));\n",
    "        val nextState = if (r < alpha) proposedState else currentState\n",
    "        logger.logStep(nextState, proposedState)\n",
    "        nextState\n",
    "    }\n",
    "    \n",
    "    // create an iterator starting from the initial state\n",
    "    Iterator.iterate(initialState)(nextStep)\n",
    "}\n"
   ]
  },
  {
   "cell_type": "markdown",
   "metadata": {},
   "source": [
    "This is it - this simple code is a complete implementation of the celebrated Metropolis algorithm! "
   ]
  },
  {
   "cell_type": "markdown",
   "metadata": {},
   "source": [
    "### Toy example: sampling from a bivariate normal"
   ]
  },
  {
   "cell_type": "markdown",
   "metadata": {},
   "source": [
    "We will now run the algorithm on a toy example, where we sample from a bivariate normal distribution. \n",
    "We start by defining the target probability distribution. "
   ]
  },
  {
   "cell_type": "code",
   "execution_count": 103,
   "metadata": {},
   "outputs": [
    {
     "data": {
      "text/plain": [
       "\u001b[36mbivariateNormal\u001b[39m: \u001b[32mMultivariateGaussian\u001b[39m = \u001b[33mMultivariateGaussian\u001b[39m(\n",
       "  DenseVector(9.0, 10.0),\n",
       "  2.0  0.5  \n",
       "0.5  1.0  \n",
       ")"
      ]
     },
     "execution_count": 103,
     "metadata": {},
     "output_type": "execute_result"
    }
   ],
   "source": [
    "val bivariateNormal = MultivariateGaussian(\n",
    "    mean = DenseVector(9.0, 10.0), \n",
    "    covariance = DenseMatrix((2.0, 0.5), (0.5, 1.0))\n",
    ")"
   ]
  },
  {
   "cell_type": "markdown",
   "metadata": {},
   "source": [
    "Let's plot some samples from the distribution:"
   ]
  },
  {
   "cell_type": "code",
   "execution_count": 104,
   "metadata": {},
   "outputs": [
    {
     "data": {
      "image/png": "[encoded data removed]"
     },
     "metadata": {
      "height": "600",
      "width": "600"
     },
     "output_type": "display_data"
    }
   ],
   "source": [
    "{{ // the {{ suppress are here to suppress the output from the definitions\n",
    "    \n",
    "val samples = for (_ <- 0 until 100) yield bivariateNormal.sample()\n",
    "val points = samples.map(s => Array(s(0), s(1))).toArray\n",
    "val canvas : Canvas = ScatterPlot.of(points).canvas\n",
    "canvas.setBound(Array(0.0, 0.0), Array(20.0, 20.0))\n",
    "showPlot(canvas)\n",
    "}}"
   ]
  },
  {
   "cell_type": "markdown",
   "metadata": {},
   "source": [
    "We also need to define a proposal generator. We define a simple random walk proposal, which chooses the new direction and step length randomly."
   ]
  },
  {
   "cell_type": "code",
   "execution_count": 105,
   "metadata": {},
   "outputs": [
    {
     "data": {
      "text/plain": [
       "defined \u001b[32mfunction\u001b[39m \u001b[36mrandomWalkProposal\u001b[39m"
      ]
     },
     "execution_count": 105,
     "metadata": {},
     "output_type": "execute_result"
    }
   ],
   "source": [
    "def randomWalkProposal(x : State) : State = {\n",
    "    val stepLength = 2.0\n",
    "    \n",
    "    val step = DenseVector(rng.nextGaussian() * stepLength, rng.nextGaussian() * stepLength)\n",
    "    x + step\n",
    "}"
   ]
  },
  {
   "cell_type": "markdown",
   "metadata": {},
   "source": [
    "Now we can draw samples using our sampler. "
   ]
  },
  {
   "cell_type": "code",
   "execution_count": 106,
   "metadata": {},
   "outputs": [
    {
     "data": {
      "text/plain": [
       "\u001b[36mlogger\u001b[39m: \u001b[32mLogger\u001b[39m = ammonite.$sess.cmd100$Helper$Logger@5e52d3ce\r\n",
       "\u001b[36minitialState\u001b[39m: \u001b[32mDenseVector\u001b[39m[\u001b[32mDouble\u001b[39m] = DenseVector(10.0, 10.0)\r\n",
       "\u001b[36msamples\u001b[39m: \u001b[32mSeq\u001b[39m[\u001b[32mState\u001b[39m] = \u001b[33mList\u001b[39m(\n",
       "  DenseVector(10.0, 10.0),\n",
       "  DenseVector(10.0, 10.0),\n",
       "  DenseVector(10.0, 10.0),\n",
       "  DenseVector(7.951409567536756, 9.062896099899623),\n",
       "  DenseVector(7.951409567536756, 9.062896099899623),\n",
       "  DenseVector(7.951409567536756, 9.062896099899623),\n",
       "  DenseVector(7.951409567536756, 9.062896099899623),\n",
       "  DenseVector(7.951409567536756, 9.062896099899623),\n",
       "  DenseVector(8.382779979025145, 10.58604541130355),\n",
       "  DenseVector(10.356472003891119, 9.923646668619012),\n",
       "  DenseVector(10.356472003891119, 9.923646668619012),\n",
       "  DenseVector(10.356472003891119, 9.923646668619012),\n",
       "  DenseVector(10.356472003891119, 9.923646668619012),\n",
       "  DenseVector(10.356472003891119, 9.923646668619012),\n",
       "  DenseVector(10.903340702435901, 12.149107526278794),\n",
       "  DenseVector(12.431513504042924, 11.342237224313601),\n",
       "  DenseVector(11.894030605259916, 10.302976973005709),\n",
       "  DenseVector(11.894030605259916, 10.302976973005709),\n",
       "  DenseVector(9.286678256588509, 10.11904585302829),\n",
       "  DenseVector(9.286678256588509, 10.11904585302829),\n",
       "  DenseVector(9.286678256588509, 10.11904585302829),\n",
       "  DenseVector(9.286678256588509, 10.11904585302829),\n",
       "  DenseVector(9.286678256588509, 10.11904585302829),\n",
       "  DenseVector(9.286678256588509, 10.11904585302829),\n",
       "  DenseVector(10.593573195424824, 10.614833214665051),\n",
       "  DenseVector(10.679104849716822, 8.857878431207958),\n",
       "  DenseVector(10.679104849716822, 8.857878431207958),\n",
       "  DenseVector(10.679104849716822, 8.857878431207958),\n",
       "  DenseVector(10.679104849716822, 8.857878431207958),\n",
       "  DenseVector(10.893002682205474, 9.771787502985067),\n",
       "  DenseVector(9.527985591668537, 9.792811454722282),\n",
       "  DenseVector(9.527985591668537, 9.792811454722282),\n",
       "  DenseVector(9.274580758755052, 10.27979260277591),\n",
       "  DenseVector(9.274580758755052, 10.27979260277591),\n",
       "  DenseVector(9.274580758755052, 10.27979260277591),\n",
       "  DenseVector(9.274580758755052, 10.27979260277591),\n",
       "  DenseVector(9.274580758755052, 10.27979260277591),\n",
       "  DenseVector(9.274580758755052, 10.27979260277591),\n",
       "..."
      ]
     },
     "execution_count": 106,
     "metadata": {},
     "output_type": "execute_result"
    }
   ],
   "source": [
    "val logger = new Logger()\n",
    "val initialState = DenseVector(10.0, 10.0)\n",
    "val samples = metropolisSampler(bivariateNormal.pdf, randomWalkProposal, initialState, logger).take(150).toSeq"
   ]
  },
  {
   "cell_type": "markdown",
   "metadata": {},
   "source": [
    "Computing the mean and the covariance from the samples shows, that the samples approximate the target distribution rather well. "
   ]
  },
  {
   "cell_type": "code",
   "execution_count": 107,
   "metadata": {},
   "outputs": [
    {
     "data": {
      "text/plain": [
       "\u001b[36mmean\u001b[39m: \u001b[32mDenseVector\u001b[39m[\u001b[32mDouble\u001b[39m] = DenseVector(9.462283471118285, 9.928560324623572)\r\n",
       "\u001b[36mcov\u001b[39m: \u001b[32mDenseMatrix\u001b[39m[\u001b[32mDouble\u001b[39m] = 1.125150417507078    0.10848353018595386  \n",
       "0.10848353018595386  0.5674727416172036   "
      ]
     },
     "execution_count": 107,
     "metadata": {},
     "output_type": "execute_result"
    }
   ],
   "source": [
    "val mean = samples.reduce(_ + _) * (1.0 / samples.length)\n",
    "val cov = samples.map(x => (x - mean) * (x - mean).t).reduce(_ + _) * (1.0 / samples.length)"
   ]
  },
  {
   "cell_type": "markdown",
   "metadata": {},
   "source": [
    "We can also check this also visually by plotting the samples:"
   ]
  },
  {
   "cell_type": "code",
   "execution_count": 108,
   "metadata": {
    "scrolled": true
   },
   "outputs": [
    {
     "data": {
      "text/plain": [
       "defined \u001b[32mfunction\u001b[39m \u001b[36mplotSamples\u001b[39m"
      ]
     },
     "execution_count": 108,
     "metadata": {},
     "output_type": "execute_result"
    }
   ],
   "source": [
    "def plotSamples(samples : Seq[State]) : Image = {\n",
    "\n",
    "    val canvas = ScatterPlot.of(\n",
    "        samples.map(s => Array(s(0), s(1))).toArray\n",
    "    ).canvas\n",
    "    \n",
    "    canvas.setBound(Array(0.0, 0.0), Array(20.0, 20.0))\n",
    "    showPlot(canvas)\n",
    "}"
   ]
  },
  {
   "cell_type": "code",
   "execution_count": 109,
   "metadata": {},
   "outputs": [
    {
     "data": {
      "image/png": "[encoded data removed]"
     },
     "metadata": {
      "height": "600",
      "width": "600"
     },
     "output_type": "display_data"
    }
   ],
   "source": [
    "plotSamples(samples)"
   ]
  },
  {
   "cell_type": "markdown",
   "metadata": {},
   "source": [
    "To get a deeper understanding of how the metropolis algorithm works, it is interesting to visualize not only the accepted samples, but also those which are rejected, and possibly the path that was taken. This is achieved by the following plot function, which visualizes the accepted and rejected samples in different colors and also can plot lines to show the path that was explored:"
   ]
  },
  {
   "cell_type": "code",
   "execution_count": 110,
   "metadata": {},
   "outputs": [
    {
     "data": {
      "text/plain": [
       "defined \u001b[32mfunction\u001b[39m \u001b[36mplotLoggedSamples\u001b[39m"
      ]
     },
     "execution_count": 110,
     "metadata": {},
     "output_type": "execute_result"
    }
   ],
   "source": [
    "def plotLoggedSamples(logger : Logger, plotLines : Boolean = false) : Image = {\n",
    "    val (accepted, rejected) = logger.steps.partition(s => s.accepted)\n",
    "    \n",
    "    //val rejected =logger.steps.filterNot(s => s.accepted).map(s => Point(s.proposedState(0), s.proposedState(1))),\n",
    "    val acceptedPlot = ScatterPlot.of(accepted.map(s => Array(s.state(0), s.state(1))).toArray, 'o', java.awt.Color.BLUE)\n",
    "    val rejectedPlot = ScatterPlot.of(rejected.map(s => Array(s.proposedState(0), s.proposedState(1))).toArray, '*', java.awt.Color.RED)\n",
    "\n",
    "    val lines = logger.steps.flatMap(s => \n",
    "                                     if (!s.accepted) {        \n",
    "                                         Array(Array(s.proposedState(0), s.proposedState(1)), Array(s.state(0), s.state(1)))\n",
    "                                     } else {\n",
    "                                         Array(Array(s.state(0), s.state(1)))\n",
    "                                     }).toArray\n",
    "\n",
    "    val linePlot = LinePlot.of(lines)\n",
    "    \n",
    "    val canvas = acceptedPlot.canvas\n",
    "    canvas.add(rejectedPlot)\n",
    "    if (plotLines)\n",
    "        canvas.add(linePlot)\n",
    "    \n",
    "    canvas.setBound(Array(0.0,0.0), Array(20.0, 20.0))\n",
    "    showPlot(canvas)\n",
    "}"
   ]
  },
  {
   "cell_type": "markdown",
   "metadata": {},
   "source": [
    "We can now plot our samples and start experimenting:"
   ]
  },
  {
   "cell_type": "code",
   "execution_count": null,
   "metadata": {},
   "outputs": [],
   "source": [
    "plotLoggedSamples(logger, plotLines = false)"
   ]
  },
  {
   "cell_type": "markdown",
   "metadata": {},
   "source": [
    "#### Exercises\n",
    "\n",
    "* We have started sampling from close to the mean of the target distribution. What happens when we start at the Point (0,0)?\n",
    "    * Visualize the resulting samples using the plot functions\n",
    "    * How could we mitigate the situation?\n",
    "* Play with different step-length in the proposal.\n",
    "    * What happens to the acceptance and rejection rate? \n",
    "    * How well is the target distribution approximated after a fixed number of samples\n",
    "* Experiment with different target distributions. \n",
    "    * Make the variance larger and smaller\n",
    "    * Change the correlation \n",
    "    * Assign to all samples whose x value is larger then 5 the probability 0. \n",
    "        * Do you need to normalize the pdf? why, why not?\n",
    "* Define a function that computes the exected value of a given function, using the samples\n",
    "* How could you get samples from the marginal distributions?"
   ]
  },
  {
   "cell_type": "code",
   "execution_count": null,
   "metadata": {},
   "outputs": [],
   "source": []
  },
  {
   "cell_type": "code",
   "execution_count": null,
   "metadata": {},
   "outputs": [],
   "source": []
  },
  {
   "cell_type": "code",
   "execution_count": null,
   "metadata": {},
   "outputs": [],
   "source": []
  }
 ],
 "metadata": {
  "kernelspec": {
   "display_name": "Scala",
   "language": "scala",
   "name": "scala"
  },
  "language_info": {
   "codemirror_mode": "text/x-scala",
   "file_extension": ".sc",
   "mimetype": "text/x-scala",
   "name": "scala",
   "nbconvert_exporter": "script",
   "version": "2.13.1"
  },
  "toc": {
   "base_numbering": 1,
   "nav_menu": {},
   "number_sections": false,
   "sideBar": false,
   "skip_h1_title": false,
   "title_cell": "Table of Contents",
   "title_sidebar": "Contents",
   "toc_cell": false,
   "toc_position": {},
   "toc_section_display": false,
   "toc_window_display": false
  }
 },
 "nbformat": 4,
 "nbformat_minor": 2
}
